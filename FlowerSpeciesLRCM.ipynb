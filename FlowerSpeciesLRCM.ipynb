{
 "cells": [
  {
   "cell_type": "code",
   "execution_count": 15,
   "id": "52252d02-12fb-401f-a0e1-5dd7215a9314",
   "metadata": {},
   "outputs": [],
   "source": [
    "# Import essential libraries\n",
    "import numpy as np\n",
    "import pandas as pd\n",
    "\n",
    "# Import sklearn for datasets and model selection\n",
    "from sklearn.model_selection import train_test_split\n",
    "\n",
    "# Import sklearn for multi logistic regression\n",
    "from sklearn.linear_model import LogisticRegression\n",
    "from sklearn.datasets import make_multilabel_classification\n",
    "from sklearn.multiclass import OneVsRestClassifier\n",
    "# from sklearn.multioutput import MultiOutputClassifier   #removed from py version 1.7\n",
    "\n",
    "# Evaluation Parameters\n",
    "from sklearn.metrics import classification_report\n",
    "\n",
    "# Import matplotlib and seaborn for visualization\n",
    "import matplotlib.pyplot as plt\n",
    "import seaborn as sns\n"
   ]
  },
  {
   "cell_type": "code",
   "execution_count": 16,
   "id": "98cf4f81-0261-4618-8bae-733ae63152e7",
   "metadata": {},
   "outputs": [
    {
     "data": {
      "text/html": [
       "<div>\n",
       "<style scoped>\n",
       "    .dataframe tbody tr th:only-of-type {\n",
       "        vertical-align: middle;\n",
       "    }\n",
       "\n",
       "    .dataframe tbody tr th {\n",
       "        vertical-align: top;\n",
       "    }\n",
       "\n",
       "    .dataframe thead th {\n",
       "        text-align: right;\n",
       "    }\n",
       "</style>\n",
       "<table border=\"1\" class=\"dataframe\">\n",
       "  <thead>\n",
       "    <tr style=\"text-align: right;\">\n",
       "      <th></th>\n",
       "      <th>sepal_len</th>\n",
       "      <th>sepal_wid</th>\n",
       "      <th>patel_len</th>\n",
       "      <th>patel_wid</th>\n",
       "      <th>species</th>\n",
       "    </tr>\n",
       "  </thead>\n",
       "  <tbody>\n",
       "    <tr>\n",
       "      <th>0</th>\n",
       "      <td>5.1</td>\n",
       "      <td>3.5</td>\n",
       "      <td>1.4</td>\n",
       "      <td>0.2</td>\n",
       "      <td>Iris-setosa</td>\n",
       "    </tr>\n",
       "    <tr>\n",
       "      <th>1</th>\n",
       "      <td>4.9</td>\n",
       "      <td>3.0</td>\n",
       "      <td>1.4</td>\n",
       "      <td>0.2</td>\n",
       "      <td>Iris-setosa</td>\n",
       "    </tr>\n",
       "    <tr>\n",
       "      <th>2</th>\n",
       "      <td>4.7</td>\n",
       "      <td>3.2</td>\n",
       "      <td>1.3</td>\n",
       "      <td>0.2</td>\n",
       "      <td>Iris-setosa</td>\n",
       "    </tr>\n",
       "    <tr>\n",
       "      <th>3</th>\n",
       "      <td>4.6</td>\n",
       "      <td>3.1</td>\n",
       "      <td>1.5</td>\n",
       "      <td>0.2</td>\n",
       "      <td>Iris-setosa</td>\n",
       "    </tr>\n",
       "    <tr>\n",
       "      <th>4</th>\n",
       "      <td>5.0</td>\n",
       "      <td>3.6</td>\n",
       "      <td>1.4</td>\n",
       "      <td>0.2</td>\n",
       "      <td>Iris-setosa</td>\n",
       "    </tr>\n",
       "  </tbody>\n",
       "</table>\n",
       "</div>"
      ],
      "text/plain": [
       "   sepal_len  sepal_wid  patel_len  patel_wid      species\n",
       "0        5.1        3.5        1.4        0.2  Iris-setosa\n",
       "1        4.9        3.0        1.4        0.2  Iris-setosa\n",
       "2        4.7        3.2        1.3        0.2  Iris-setosa\n",
       "3        4.6        3.1        1.5        0.2  Iris-setosa\n",
       "4        5.0        3.6        1.4        0.2  Iris-setosa"
      ]
     },
     "execution_count": 16,
     "metadata": {},
     "output_type": "execute_result"
    }
   ],
   "source": [
    "\n",
    "# Convert to DataFrame\n",
    "df = pd.read_csv(\"https://archive.ics.uci.edu/ml/machine-learning-databases/iris/iris.data\", header = None, names=['sepal_len','sepal_wid','patel_len','patel_wid','species'])\n",
    "\n",
    "# Display the first few rows\n",
    "df.head()"
   ]
  },
  {
   "cell_type": "code",
   "execution_count": 17,
   "id": "300e83ed-54ee-46ba-9393-e22e5658567f",
   "metadata": {},
   "outputs": [
    {
     "name": "stdout",
     "output_type": "stream",
     "text": [
      "<class 'pandas.core.frame.DataFrame'>\n",
      "RangeIndex: 150 entries, 0 to 149\n",
      "Data columns (total 5 columns):\n",
      " #   Column     Non-Null Count  Dtype  \n",
      "---  ------     --------------  -----  \n",
      " 0   sepal_len  150 non-null    float64\n",
      " 1   sepal_wid  150 non-null    float64\n",
      " 2   patel_len  150 non-null    float64\n",
      " 3   patel_wid  150 non-null    float64\n",
      " 4   species    150 non-null    object \n",
      "dtypes: float64(4), object(1)\n",
      "memory usage: 6.0+ KB\n"
     ]
    }
   ],
   "source": [
    "df.info()"
   ]
  },
  {
   "cell_type": "code",
   "execution_count": 18,
   "id": "0c5a5233-d76b-48be-a9ed-b40cfb2e7174",
   "metadata": {},
   "outputs": [
    {
     "data": {
      "text/plain": [
       "sepal_len    False\n",
       "sepal_wid    False\n",
       "patel_len    False\n",
       "patel_wid    False\n",
       "species      False\n",
       "dtype: bool"
      ]
     },
     "execution_count": 18,
     "metadata": {},
     "output_type": "execute_result"
    }
   ],
   "source": [
    "df.isna().any()"
   ]
  },
  {
   "cell_type": "code",
   "execution_count": 19,
   "id": "7eba1555-8e10-460d-bc1a-c89b8157f8f7",
   "metadata": {},
   "outputs": [
    {
     "data": {
      "text/plain": [
       "species\n",
       "Iris-setosa        50\n",
       "Iris-versicolor    50\n",
       "Iris-virginica     50\n",
       "Name: count, dtype: int64"
      ]
     },
     "execution_count": 19,
     "metadata": {},
     "output_type": "execute_result"
    }
   ],
   "source": [
    "df[\"species\"].value_counts()"
   ]
  },
  {
   "cell_type": "code",
   "execution_count": 20,
   "id": "ae40dec9-6b59-4431-9f62-f41bc3cec400",
   "metadata": {},
   "outputs": [],
   "source": [
    "##feature_name = df[\"species\"].unique()  can use this"
   ]
  },
  {
   "cell_type": "code",
   "execution_count": 21,
   "id": "f08a46a0-8b82-41c7-a590-a8c7c6ed43ce",
   "metadata": {
    "scrolled": true
   },
   "outputs": [],
   "source": [
    "from sklearn.preprocessing import OneHotEncoder\n",
    "ohe= OneHotEncoder(sparse_output=False, handle_unknown= 'ignore')\n",
    "target_array=ohe.fit_transform(df[[\"species\"]])\n",
    "target_name= ohe.get_feature_names_out(input_features=[\"species\"])"
   ]
  },
  {
   "cell_type": "code",
   "execution_count": 22,
   "id": "a2216c99-1a70-4a86-805b-fb65874fe763",
   "metadata": {},
   "outputs": [],
   "source": [
    " df1= pd.DataFrame(target_array, columns= target_name)"
   ]
  },
  {
   "cell_type": "code",
   "execution_count": 23,
   "id": "9f718be4-3121-4521-914b-6330995357fa",
   "metadata": {},
   "outputs": [],
   "source": [
    "df=df.drop(labels = \"species\", axis=1)"
   ]
  },
  {
   "cell_type": "code",
   "execution_count": 24,
   "id": "496f1f08-1139-4bbb-bbef-3ad52a1ffdfa",
   "metadata": {},
   "outputs": [
    {
     "data": {
      "text/html": [
       "<div>\n",
       "<style scoped>\n",
       "    .dataframe tbody tr th:only-of-type {\n",
       "        vertical-align: middle;\n",
       "    }\n",
       "\n",
       "    .dataframe tbody tr th {\n",
       "        vertical-align: top;\n",
       "    }\n",
       "\n",
       "    .dataframe thead th {\n",
       "        text-align: right;\n",
       "    }\n",
       "</style>\n",
       "<table border=\"1\" class=\"dataframe\">\n",
       "  <thead>\n",
       "    <tr style=\"text-align: right;\">\n",
       "      <th></th>\n",
       "      <th>sepal_len</th>\n",
       "      <th>sepal_wid</th>\n",
       "      <th>patel_len</th>\n",
       "      <th>patel_wid</th>\n",
       "      <th>species_Iris-setosa</th>\n",
       "      <th>species_Iris-versicolor</th>\n",
       "      <th>species_Iris-virginica</th>\n",
       "    </tr>\n",
       "  </thead>\n",
       "  <tbody>\n",
       "    <tr>\n",
       "      <th>0</th>\n",
       "      <td>5.1</td>\n",
       "      <td>3.5</td>\n",
       "      <td>1.4</td>\n",
       "      <td>0.2</td>\n",
       "      <td>1.0</td>\n",
       "      <td>0.0</td>\n",
       "      <td>0.0</td>\n",
       "    </tr>\n",
       "    <tr>\n",
       "      <th>1</th>\n",
       "      <td>4.9</td>\n",
       "      <td>3.0</td>\n",
       "      <td>1.4</td>\n",
       "      <td>0.2</td>\n",
       "      <td>1.0</td>\n",
       "      <td>0.0</td>\n",
       "      <td>0.0</td>\n",
       "    </tr>\n",
       "    <tr>\n",
       "      <th>2</th>\n",
       "      <td>4.7</td>\n",
       "      <td>3.2</td>\n",
       "      <td>1.3</td>\n",
       "      <td>0.2</td>\n",
       "      <td>1.0</td>\n",
       "      <td>0.0</td>\n",
       "      <td>0.0</td>\n",
       "    </tr>\n",
       "    <tr>\n",
       "      <th>3</th>\n",
       "      <td>4.6</td>\n",
       "      <td>3.1</td>\n",
       "      <td>1.5</td>\n",
       "      <td>0.2</td>\n",
       "      <td>1.0</td>\n",
       "      <td>0.0</td>\n",
       "      <td>0.0</td>\n",
       "    </tr>\n",
       "    <tr>\n",
       "      <th>4</th>\n",
       "      <td>5.0</td>\n",
       "      <td>3.6</td>\n",
       "      <td>1.4</td>\n",
       "      <td>0.2</td>\n",
       "      <td>1.0</td>\n",
       "      <td>0.0</td>\n",
       "      <td>0.0</td>\n",
       "    </tr>\n",
       "  </tbody>\n",
       "</table>\n",
       "</div>"
      ],
      "text/plain": [
       "   sepal_len  sepal_wid  patel_len  patel_wid  species_Iris-setosa  \\\n",
       "0        5.1        3.5        1.4        0.2                  1.0   \n",
       "1        4.9        3.0        1.4        0.2                  1.0   \n",
       "2        4.7        3.2        1.3        0.2                  1.0   \n",
       "3        4.6        3.1        1.5        0.2                  1.0   \n",
       "4        5.0        3.6        1.4        0.2                  1.0   \n",
       "\n",
       "   species_Iris-versicolor  species_Iris-virginica  \n",
       "0                      0.0                     0.0  \n",
       "1                      0.0                     0.0  \n",
       "2                      0.0                     0.0  \n",
       "3                      0.0                     0.0  \n",
       "4                      0.0                     0.0  "
      ]
     },
     "execution_count": 24,
     "metadata": {},
     "output_type": "execute_result"
    }
   ],
   "source": [
    "df=df.join(df1)\n",
    "df.head()"
   ]
  },
  {
   "cell_type": "code",
   "execution_count": 25,
   "id": "58808bd7-01b7-4991-b186-f71e6e0cc3c9",
   "metadata": {},
   "outputs": [],
   "source": [
    "features= df.iloc[:,:-3]\n",
    "target=df.iloc[:,[-1,-2,-3]]"
   ]
  },
  {
   "cell_type": "code",
   "execution_count": 26,
   "id": "eb0b5fb4-920f-4d8e-85ef-6e45089c844e",
   "metadata": {},
   "outputs": [
    {
     "data": {
      "text/html": [
       "<div>\n",
       "<style scoped>\n",
       "    .dataframe tbody tr th:only-of-type {\n",
       "        vertical-align: middle;\n",
       "    }\n",
       "\n",
       "    .dataframe tbody tr th {\n",
       "        vertical-align: top;\n",
       "    }\n",
       "\n",
       "    .dataframe thead th {\n",
       "        text-align: right;\n",
       "    }\n",
       "</style>\n",
       "<table border=\"1\" class=\"dataframe\">\n",
       "  <thead>\n",
       "    <tr style=\"text-align: right;\">\n",
       "      <th></th>\n",
       "      <th>sepal_len</th>\n",
       "      <th>sepal_wid</th>\n",
       "      <th>patel_len</th>\n",
       "      <th>patel_wid</th>\n",
       "    </tr>\n",
       "  </thead>\n",
       "  <tbody>\n",
       "    <tr>\n",
       "      <th>0</th>\n",
       "      <td>-0.900681</td>\n",
       "      <td>1.032057</td>\n",
       "      <td>-1.341272</td>\n",
       "      <td>-1.312977</td>\n",
       "    </tr>\n",
       "    <tr>\n",
       "      <th>1</th>\n",
       "      <td>-1.143017</td>\n",
       "      <td>-0.124958</td>\n",
       "      <td>-1.341272</td>\n",
       "      <td>-1.312977</td>\n",
       "    </tr>\n",
       "    <tr>\n",
       "      <th>2</th>\n",
       "      <td>-1.385353</td>\n",
       "      <td>0.337848</td>\n",
       "      <td>-1.398138</td>\n",
       "      <td>-1.312977</td>\n",
       "    </tr>\n",
       "    <tr>\n",
       "      <th>3</th>\n",
       "      <td>-1.506521</td>\n",
       "      <td>0.106445</td>\n",
       "      <td>-1.284407</td>\n",
       "      <td>-1.312977</td>\n",
       "    </tr>\n",
       "    <tr>\n",
       "      <th>4</th>\n",
       "      <td>-1.021849</td>\n",
       "      <td>1.263460</td>\n",
       "      <td>-1.341272</td>\n",
       "      <td>-1.312977</td>\n",
       "    </tr>\n",
       "  </tbody>\n",
       "</table>\n",
       "</div>"
      ],
      "text/plain": [
       "   sepal_len  sepal_wid  patel_len  patel_wid\n",
       "0  -0.900681   1.032057  -1.341272  -1.312977\n",
       "1  -1.143017  -0.124958  -1.341272  -1.312977\n",
       "2  -1.385353   0.337848  -1.398138  -1.312977\n",
       "3  -1.506521   0.106445  -1.284407  -1.312977\n",
       "4  -1.021849   1.263460  -1.341272  -1.312977"
      ]
     },
     "execution_count": 26,
     "metadata": {},
     "output_type": "execute_result"
    }
   ],
   "source": [
    "from sklearn.preprocessing import StandardScaler\n",
    "ss = StandardScaler()\n",
    "feature_scale = ss.fit_transform(features)\n",
    "features = pd.DataFrame(feature_scale, columns=features.columns) \n",
    "features.head()"
   ]
  },
  {
   "cell_type": "code",
   "execution_count": 27,
   "id": "d97b12d8-c582-4174-8dea-77eafa908eca",
   "metadata": {},
   "outputs": [
    {
     "data": {
      "text/html": [
       "<div>\n",
       "<style scoped>\n",
       "    .dataframe tbody tr th:only-of-type {\n",
       "        vertical-align: middle;\n",
       "    }\n",
       "\n",
       "    .dataframe tbody tr th {\n",
       "        vertical-align: top;\n",
       "    }\n",
       "\n",
       "    .dataframe thead th {\n",
       "        text-align: right;\n",
       "    }\n",
       "</style>\n",
       "<table border=\"1\" class=\"dataframe\">\n",
       "  <thead>\n",
       "    <tr style=\"text-align: right;\">\n",
       "      <th></th>\n",
       "      <th>sepal_len</th>\n",
       "      <th>sepal_wid</th>\n",
       "      <th>patel_len</th>\n",
       "      <th>patel_wid</th>\n",
       "      <th>species_Iris-setosa</th>\n",
       "      <th>species_Iris-versicolor</th>\n",
       "      <th>species_Iris-virginica</th>\n",
       "    </tr>\n",
       "  </thead>\n",
       "  <tbody>\n",
       "    <tr>\n",
       "      <th>sepal_len</th>\n",
       "      <td>1.000000</td>\n",
       "      <td>-0.109369</td>\n",
       "      <td>0.871754</td>\n",
       "      <td>0.817954</td>\n",
       "      <td>-0.717416</td>\n",
       "      <td>0.079396</td>\n",
       "      <td>0.638020</td>\n",
       "    </tr>\n",
       "    <tr>\n",
       "      <th>sepal_wid</th>\n",
       "      <td>-0.109369</td>\n",
       "      <td>1.000000</td>\n",
       "      <td>-0.420516</td>\n",
       "      <td>-0.356544</td>\n",
       "      <td>0.595601</td>\n",
       "      <td>-0.464700</td>\n",
       "      <td>-0.130901</td>\n",
       "    </tr>\n",
       "    <tr>\n",
       "      <th>patel_len</th>\n",
       "      <td>0.871754</td>\n",
       "      <td>-0.420516</td>\n",
       "      <td>1.000000</td>\n",
       "      <td>0.962757</td>\n",
       "      <td>-0.922688</td>\n",
       "      <td>0.201587</td>\n",
       "      <td>0.721102</td>\n",
       "    </tr>\n",
       "    <tr>\n",
       "      <th>patel_wid</th>\n",
       "      <td>0.817954</td>\n",
       "      <td>-0.356544</td>\n",
       "      <td>0.962757</td>\n",
       "      <td>1.000000</td>\n",
       "      <td>-0.887510</td>\n",
       "      <td>0.118376</td>\n",
       "      <td>0.769134</td>\n",
       "    </tr>\n",
       "    <tr>\n",
       "      <th>species_Iris-setosa</th>\n",
       "      <td>-0.717416</td>\n",
       "      <td>0.595601</td>\n",
       "      <td>-0.922688</td>\n",
       "      <td>-0.887510</td>\n",
       "      <td>1.000000</td>\n",
       "      <td>-0.500000</td>\n",
       "      <td>-0.500000</td>\n",
       "    </tr>\n",
       "    <tr>\n",
       "      <th>species_Iris-versicolor</th>\n",
       "      <td>0.079396</td>\n",
       "      <td>-0.464700</td>\n",
       "      <td>0.201587</td>\n",
       "      <td>0.118376</td>\n",
       "      <td>-0.500000</td>\n",
       "      <td>1.000000</td>\n",
       "      <td>-0.500000</td>\n",
       "    </tr>\n",
       "    <tr>\n",
       "      <th>species_Iris-virginica</th>\n",
       "      <td>0.638020</td>\n",
       "      <td>-0.130901</td>\n",
       "      <td>0.721102</td>\n",
       "      <td>0.769134</td>\n",
       "      <td>-0.500000</td>\n",
       "      <td>-0.500000</td>\n",
       "      <td>1.000000</td>\n",
       "    </tr>\n",
       "  </tbody>\n",
       "</table>\n",
       "</div>"
      ],
      "text/plain": [
       "                         sepal_len  sepal_wid  patel_len  patel_wid  \\\n",
       "sepal_len                 1.000000  -0.109369   0.871754   0.817954   \n",
       "sepal_wid                -0.109369   1.000000  -0.420516  -0.356544   \n",
       "patel_len                 0.871754  -0.420516   1.000000   0.962757   \n",
       "patel_wid                 0.817954  -0.356544   0.962757   1.000000   \n",
       "species_Iris-setosa      -0.717416   0.595601  -0.922688  -0.887510   \n",
       "species_Iris-versicolor   0.079396  -0.464700   0.201587   0.118376   \n",
       "species_Iris-virginica    0.638020  -0.130901   0.721102   0.769134   \n",
       "\n",
       "                         species_Iris-setosa  species_Iris-versicolor  \\\n",
       "sepal_len                          -0.717416                 0.079396   \n",
       "sepal_wid                           0.595601                -0.464700   \n",
       "patel_len                          -0.922688                 0.201587   \n",
       "patel_wid                          -0.887510                 0.118376   \n",
       "species_Iris-setosa                 1.000000                -0.500000   \n",
       "species_Iris-versicolor            -0.500000                 1.000000   \n",
       "species_Iris-virginica             -0.500000                -0.500000   \n",
       "\n",
       "                         species_Iris-virginica  \n",
       "sepal_len                              0.638020  \n",
       "sepal_wid                             -0.130901  \n",
       "patel_len                              0.721102  \n",
       "patel_wid                              0.769134  \n",
       "species_Iris-setosa                   -0.500000  \n",
       "species_Iris-versicolor               -0.500000  \n",
       "species_Iris-virginica                 1.000000  "
      ]
     },
     "execution_count": 27,
     "metadata": {},
     "output_type": "execute_result"
    }
   ],
   "source": [
    "corr_mat = df.corr(method='pearson')\n",
    "corr_mat"
   ]
  },
  {
   "cell_type": "code",
   "execution_count": 28,
   "id": "22ffc472-6e19-4957-9f6f-0f41b3aa5321",
   "metadata": {},
   "outputs": [
    {
     "data": {
      "text/plain": [
       "<matplotlib.colorbar.Colorbar at 0x2992323f830>"
      ]
     },
     "execution_count": 28,
     "metadata": {},
     "output_type": "execute_result"
    },
    {
     "data": {
      "image/png": "[encoded data removed]",
      "text/plain": [
       "<Figure size 480x480 with 2 Axes>"
      ]
     },
     "metadata": {},
     "output_type": "display_data"
    }
   ],
   "source": [
    "plt.style.use('ggplot')\n",
    "plt.matshow(corr_mat)\n",
    "plt.xticks(range(len(corr_mat.columns)),corr_mat.columns,rotation=90)\n",
    "plt.yticks(range(len(corr_mat.columns)),corr_mat.columns)\n",
    "plt.colorbar()"
   ]
  },
  {
   "cell_type": "code",
   "execution_count": 30,
   "id": "83406ac9-a23d-4902-bba9-600bf98998f8",
   "metadata": {},
   "outputs": [
    {
     "data": {
      "image/png": "[encoded data removed]",
      "text/plain": [
       "<Figure size 640x480 with 1 Axes>"
      ]
     },
     "metadata": {},
     "output_type": "display_data"
    }
   ],
   "source": [
    "# plt.boxplot(x_train, showfliers=True, patch_artist=True, vert=False)\n",
    "# color=[\"r\",\"b\",\"p\",\"g\"]\n",
    "# for patch,color in zip(box[\"boxes\"],color):\n",
    "#     patch.set_facecolor(color)\n",
    "# plt.show()\n",
    "\n",
    "sns.boxplot(data= features, orient=\"y\").set(xlabel=\"range\",ylabel=\"features\")\n",
    "plt.show()"
   ]
  },
  {
   "cell_type": "code",
   "execution_count": 40,
   "id": "fbc2b362-0d20-4d73-b02f-641b98a88dc6",
   "metadata": {},
   "outputs": [
    {
     "data": {
      "text/html": [
       "<div>\n",
       "<style scoped>\n",
       "    .dataframe tbody tr th:only-of-type {\n",
       "        vertical-align: middle;\n",
       "    }\n",
       "\n",
       "    .dataframe tbody tr th {\n",
       "        vertical-align: top;\n",
       "    }\n",
       "\n",
       "    .dataframe thead th {\n",
       "        text-align: right;\n",
       "    }\n",
       "</style>\n",
       "<table border=\"1\" class=\"dataframe\">\n",
       "  <thead>\n",
       "    <tr style=\"text-align: right;\">\n",
       "      <th></th>\n",
       "      <th>sepal_len</th>\n",
       "      <th>sepal_wid</th>\n",
       "      <th>patel_len</th>\n",
       "      <th>patel_wid</th>\n",
       "      <th>species_Iris-setosa</th>\n",
       "      <th>species_Iris-versicolor</th>\n",
       "      <th>species_Iris-virginica</th>\n",
       "    </tr>\n",
       "  </thead>\n",
       "  <tbody>\n",
       "    <tr>\n",
       "      <th>0</th>\n",
       "      <td>5.1</td>\n",
       "      <td>3.5</td>\n",
       "      <td>1.4</td>\n",
       "      <td>0.2</td>\n",
       "      <td>1.0</td>\n",
       "      <td>0.0</td>\n",
       "      <td>0.0</td>\n",
       "    </tr>\n",
       "    <tr>\n",
       "      <th>1</th>\n",
       "      <td>4.9</td>\n",
       "      <td>3.0</td>\n",
       "      <td>1.4</td>\n",
       "      <td>0.2</td>\n",
       "      <td>1.0</td>\n",
       "      <td>0.0</td>\n",
       "      <td>0.0</td>\n",
       "    </tr>\n",
       "    <tr>\n",
       "      <th>2</th>\n",
       "      <td>4.7</td>\n",
       "      <td>3.2</td>\n",
       "      <td>1.3</td>\n",
       "      <td>0.2</td>\n",
       "      <td>1.0</td>\n",
       "      <td>0.0</td>\n",
       "      <td>0.0</td>\n",
       "    </tr>\n",
       "    <tr>\n",
       "      <th>3</th>\n",
       "      <td>4.6</td>\n",
       "      <td>3.1</td>\n",
       "      <td>1.5</td>\n",
       "      <td>0.2</td>\n",
       "      <td>1.0</td>\n",
       "      <td>0.0</td>\n",
       "      <td>0.0</td>\n",
       "    </tr>\n",
       "    <tr>\n",
       "      <th>4</th>\n",
       "      <td>5.0</td>\n",
       "      <td>3.6</td>\n",
       "      <td>1.4</td>\n",
       "      <td>0.2</td>\n",
       "      <td>1.0</td>\n",
       "      <td>0.0</td>\n",
       "      <td>0.0</td>\n",
       "    </tr>\n",
       "  </tbody>\n",
       "</table>\n",
       "</div>"
      ],
      "text/plain": [
       "   sepal_len  sepal_wid  patel_len  patel_wid  species_Iris-setosa  \\\n",
       "0        5.1        3.5        1.4        0.2                  1.0   \n",
       "1        4.9        3.0        1.4        0.2                  1.0   \n",
       "2        4.7        3.2        1.3        0.2                  1.0   \n",
       "3        4.6        3.1        1.5        0.2                  1.0   \n",
       "4        5.0        3.6        1.4        0.2                  1.0   \n",
       "\n",
       "   species_Iris-versicolor  species_Iris-virginica  \n",
       "0                      0.0                     0.0  \n",
       "1                      0.0                     0.0  \n",
       "2                      0.0                     0.0  \n",
       "3                      0.0                     0.0  \n",
       "4                      0.0                     0.0  "
      ]
     },
     "execution_count": 40,
     "metadata": {},
     "output_type": "execute_result"
    }
   ],
   "source": [
    "##copying Dataset\n",
    "df1= df.copy(deep=False)\n",
    "df1.head()\n"
   ]
  },
  {
   "cell_type": "code",
   "execution_count": 41,
   "id": "c686f3a9-f4fb-4ab0-bce4-5a3bee4e703f",
   "metadata": {},
   "outputs": [],
   "source": [
    "## Function to remove outliers\n",
    "def get_outliers(X):\n",
    "    q1= np.quantile(X,0.25) #finding 1st qunatile\n",
    "    q3= np.quantile(X,0.75) #finding 3st qunatile\n",
    "    median = np.median(X)\n",
    "    \n",
    "    ##Find the iqr region\n",
    "    iqr=q3-q1\n",
    "\n",
    "    #Find upper & lower Bound\n",
    "    upper_bound = q3+(1.5*iqr)\n",
    "    lower_bound = q1-(1.5*iqr)\n",
    "\n",
    "    outliers= X[(X<= lower_bound) | (X>= upper_bound)]\n",
    "    outliers_indices = np.where((X<= lower_bound) | (X>= upper_bound))\n",
    "\n",
    "    return outliers, outliers_indices[0].tolist()\n",
    "    "
   ]
  },
  {
   "cell_type": "code",
   "execution_count": 42,
   "id": "b0a205af-a450-4b13-9785-4a17b3579954",
   "metadata": {},
   "outputs": [
    {
     "data": {
      "text/plain": [
       "(array([ 3.11468391,  2.42047502,  2.65187798, -2.43898725]), [15, 32, 33, 60])"
      ]
     },
     "execution_count": 42,
     "metadata": {},
     "output_type": "execute_result"
    }
   ],
   "source": [
    "outliers, outliers_indices = get_outliers(features[\"sepal_wid\"].to_numpy())\n",
    "outliers, outliers_indices\n"
   ]
  },
  {
   "cell_type": "code",
   "execution_count": 43,
   "id": "98d34c39-8a83-47a6-beae-810b08f1639e",
   "metadata": {},
   "outputs": [
    {
     "data": {
      "text/plain": [
       "(150, 7)"
      ]
     },
     "execution_count": 43,
     "metadata": {},
     "output_type": "execute_result"
    }
   ],
   "source": [
    "df.shape"
   ]
  },
  {
   "cell_type": "code",
   "execution_count": 44,
   "id": "3585b18e-2ba1-4280-bfc2-d907d3331d7f",
   "metadata": {},
   "outputs": [
    {
     "data": {
      "text/plain": [
       "(146, 7)"
      ]
     },
     "execution_count": 44,
     "metadata": {},
     "output_type": "execute_result"
    }
   ],
   "source": [
    "##After dropling outliers\n",
    "df1.drop(outliers_indices, inplace=True)\n",
    "df1.shape"
   ]
  },
  {
   "cell_type": "code",
   "execution_count": 45,
   "id": "6b203c12-fe81-4e32-b4c0-1416e27e9b05",
   "metadata": {},
   "outputs": [
    {
     "data": {
      "text/html": [
       "<div>\n",
       "<style scoped>\n",
       "    .dataframe tbody tr th:only-of-type {\n",
       "        vertical-align: middle;\n",
       "    }\n",
       "\n",
       "    .dataframe tbody tr th {\n",
       "        vertical-align: top;\n",
       "    }\n",
       "\n",
       "    .dataframe thead th {\n",
       "        text-align: right;\n",
       "    }\n",
       "</style>\n",
       "<table border=\"1\" class=\"dataframe\">\n",
       "  <thead>\n",
       "    <tr style=\"text-align: right;\">\n",
       "      <th></th>\n",
       "      <th>sepal_len</th>\n",
       "      <th>sepal_wid</th>\n",
       "      <th>patel_len</th>\n",
       "      <th>patel_wid</th>\n",
       "      <th>species_Iris-setosa</th>\n",
       "      <th>species_Iris-versicolor</th>\n",
       "      <th>species_Iris-virginica</th>\n",
       "    </tr>\n",
       "  </thead>\n",
       "  <tbody>\n",
       "    <tr>\n",
       "      <th>sepal_len</th>\n",
       "      <td>1.000000</td>\n",
       "      <td>-0.113977</td>\n",
       "      <td>0.879374</td>\n",
       "      <td>0.822577</td>\n",
       "      <td>-0.729654</td>\n",
       "      <td>0.084011</td>\n",
       "      <td>0.634796</td>\n",
       "    </tr>\n",
       "    <tr>\n",
       "      <th>sepal_wid</th>\n",
       "      <td>-0.113977</td>\n",
       "      <td>1.000000</td>\n",
       "      <td>-0.397123</td>\n",
       "      <td>-0.329782</td>\n",
       "      <td>0.575605</td>\n",
       "      <td>-0.453515</td>\n",
       "      <td>-0.115433</td>\n",
       "    </tr>\n",
       "    <tr>\n",
       "      <th>patel_len</th>\n",
       "      <td>0.879374</td>\n",
       "      <td>-0.397123</td>\n",
       "      <td>1.000000</td>\n",
       "      <td>0.961755</td>\n",
       "      <td>-0.922202</td>\n",
       "      <td>0.189945</td>\n",
       "      <td>0.718958</td>\n",
       "    </tr>\n",
       "    <tr>\n",
       "      <th>patel_wid</th>\n",
       "      <td>0.822577</td>\n",
       "      <td>-0.329782</td>\n",
       "      <td>0.961755</td>\n",
       "      <td>1.000000</td>\n",
       "      <td>-0.886722</td>\n",
       "      <td>0.105792</td>\n",
       "      <td>0.767766</td>\n",
       "    </tr>\n",
       "    <tr>\n",
       "      <th>species_Iris-setosa</th>\n",
       "      <td>-0.729654</td>\n",
       "      <td>0.575605</td>\n",
       "      <td>-0.922202</td>\n",
       "      <td>-0.886722</td>\n",
       "      <td>1.000000</td>\n",
       "      <td>-0.489715</td>\n",
       "      <td>-0.497257</td>\n",
       "    </tr>\n",
       "    <tr>\n",
       "      <th>species_Iris-versicolor</th>\n",
       "      <td>0.084011</td>\n",
       "      <td>-0.453515</td>\n",
       "      <td>0.189945</td>\n",
       "      <td>0.105792</td>\n",
       "      <td>-0.489715</td>\n",
       "      <td>1.000000</td>\n",
       "      <td>-0.512934</td>\n",
       "    </tr>\n",
       "    <tr>\n",
       "      <th>species_Iris-virginica</th>\n",
       "      <td>0.634796</td>\n",
       "      <td>-0.115433</td>\n",
       "      <td>0.718958</td>\n",
       "      <td>0.767766</td>\n",
       "      <td>-0.497257</td>\n",
       "      <td>-0.512934</td>\n",
       "      <td>1.000000</td>\n",
       "    </tr>\n",
       "  </tbody>\n",
       "</table>\n",
       "</div>"
      ],
      "text/plain": [
       "                         sepal_len  sepal_wid  patel_len  patel_wid  \\\n",
       "sepal_len                 1.000000  -0.113977   0.879374   0.822577   \n",
       "sepal_wid                -0.113977   1.000000  -0.397123  -0.329782   \n",
       "patel_len                 0.879374  -0.397123   1.000000   0.961755   \n",
       "patel_wid                 0.822577  -0.329782   0.961755   1.000000   \n",
       "species_Iris-setosa      -0.729654   0.575605  -0.922202  -0.886722   \n",
       "species_Iris-versicolor   0.084011  -0.453515   0.189945   0.105792   \n",
       "species_Iris-virginica    0.634796  -0.115433   0.718958   0.767766   \n",
       "\n",
       "                         species_Iris-setosa  species_Iris-versicolor  \\\n",
       "sepal_len                          -0.729654                 0.084011   \n",
       "sepal_wid                           0.575605                -0.453515   \n",
       "patel_len                          -0.922202                 0.189945   \n",
       "patel_wid                          -0.886722                 0.105792   \n",
       "species_Iris-setosa                 1.000000                -0.489715   \n",
       "species_Iris-versicolor            -0.489715                 1.000000   \n",
       "species_Iris-virginica             -0.497257                -0.512934   \n",
       "\n",
       "                         species_Iris-virginica  \n",
       "sepal_len                              0.634796  \n",
       "sepal_wid                             -0.115433  \n",
       "patel_len                              0.718958  \n",
       "patel_wid                              0.767766  \n",
       "species_Iris-setosa                   -0.497257  \n",
       "species_Iris-versicolor               -0.512934  \n",
       "species_Iris-virginica                 1.000000  "
      ]
     },
     "execution_count": 45,
     "metadata": {},
     "output_type": "execute_result"
    }
   ],
   "source": [
    "##After droping the outliers Correlation matrics\n",
    "corr_mat_1=df1.corr(method='pearson')\n",
    "corr_mat_1"
   ]
  },
  {
   "cell_type": "code",
   "execution_count": 46,
   "id": "c9a65aa6-4fef-46d2-8a70-d1950a69ae31",
   "metadata": {},
   "outputs": [
    {
     "data": {
      "text/plain": [
       "<matplotlib.colorbar.Colorbar at 0x2992373d250>"
      ]
     },
     "execution_count": 46,
     "metadata": {},
     "output_type": "execute_result"
    },
    {
     "data": {
      "image/png": "[encoded data removed]",
      "text/plain": [
       "<Figure size 480x480 with 2 Axes>"
      ]
     },
     "metadata": {},
     "output_type": "display_data"
    }
   ],
   "source": [
    "plt.style.use('ggplot')\n",
    "plt.matshow(corr_mat_1)\n",
    "plt.xticks(range(len(corr_mat_1.columns)),corr_mat_1.columns,rotation=90)\n",
    "plt.yticks(range(len(corr_mat_1.columns)),corr_mat_1.columns)\n",
    "plt.colorbar()"
   ]
  },
  {
   "cell_type": "code",
   "execution_count": 47,
   "id": "ae4405f2-ada9-438f-8794-930b91e01be4",
   "metadata": {},
   "outputs": [
    {
     "data": {
      "image/png": "[encoded data removed]",
      "text/plain": [
       "<Figure size 640x480 with 1 Axes>"
      ]
     },
     "metadata": {},
     "output_type": "display_data"
    }
   ],
   "source": [
    "sns.boxplot(data= df1.iloc[:,:-3], orient=\"y\").set(xlabel=\"range\",ylabel=\"features\")\n",
    "plt.show()"
   ]
  },
  {
   "cell_type": "code",
   "execution_count": null,
   "id": "448cb408-d6fe-46a4-90ba-20d39c578604",
   "metadata": {},
   "outputs": [],
   "source": [
    "### More Data Visualiztion stuff can be done in this project."
   ]
  },
  {
   "cell_type": "code",
   "execution_count": 51,
   "id": "0b53b503-349e-4256-a773-c2fc5105560d",
   "metadata": {},
   "outputs": [],
   "source": [
    "features= df1.iloc[:,:-3]\n",
    "target=df1.iloc[:,[-1,-2,-3]]"
   ]
  },
  {
   "cell_type": "code",
   "execution_count": 52,
   "id": "1762295a-4f18-4fd8-bb35-231e6fa5231b",
   "metadata": {},
   "outputs": [],
   "source": [
    "x_train, x_test, y_train, y_test = train_test_split(features,target,test_size=0.2,random_state=43,shuffle=True)"
   ]
  },
  {
   "cell_type": "code",
   "execution_count": 53,
   "id": "b28f35eb-fc9e-4845-99a8-8a872426fb52",
   "metadata": {},
   "outputs": [
    {
     "data": {
      "text/html": [
       "<div>\n",
       "<style scoped>\n",
       "    .dataframe tbody tr th:only-of-type {\n",
       "        vertical-align: middle;\n",
       "    }\n",
       "\n",
       "    .dataframe tbody tr th {\n",
       "        vertical-align: top;\n",
       "    }\n",
       "\n",
       "    .dataframe thead th {\n",
       "        text-align: right;\n",
       "    }\n",
       "</style>\n",
       "<table border=\"1\" class=\"dataframe\">\n",
       "  <thead>\n",
       "    <tr style=\"text-align: right;\">\n",
       "      <th></th>\n",
       "      <th>species_Iris-virginica</th>\n",
       "      <th>species_Iris-versicolor</th>\n",
       "      <th>species_Iris-setosa</th>\n",
       "    </tr>\n",
       "  </thead>\n",
       "  <tbody>\n",
       "    <tr>\n",
       "      <th>41</th>\n",
       "      <td>0.0</td>\n",
       "      <td>0.0</td>\n",
       "      <td>1.0</td>\n",
       "    </tr>\n",
       "    <tr>\n",
       "      <th>98</th>\n",
       "      <td>0.0</td>\n",
       "      <td>1.0</td>\n",
       "      <td>0.0</td>\n",
       "    </tr>\n",
       "    <tr>\n",
       "      <th>61</th>\n",
       "      <td>0.0</td>\n",
       "      <td>1.0</td>\n",
       "      <td>0.0</td>\n",
       "    </tr>\n",
       "    <tr>\n",
       "      <th>134</th>\n",
       "      <td>1.0</td>\n",
       "      <td>0.0</td>\n",
       "      <td>0.0</td>\n",
       "    </tr>\n",
       "    <tr>\n",
       "      <th>76</th>\n",
       "      <td>0.0</td>\n",
       "      <td>1.0</td>\n",
       "      <td>0.0</td>\n",
       "    </tr>\n",
       "  </tbody>\n",
       "</table>\n",
       "</div>"
      ],
      "text/plain": [
       "     species_Iris-virginica  species_Iris-versicolor  species_Iris-setosa\n",
       "41                      0.0                      0.0                  1.0\n",
       "98                      0.0                      1.0                  0.0\n",
       "61                      0.0                      1.0                  0.0\n",
       "134                     1.0                      0.0                  0.0\n",
       "76                      0.0                      1.0                  0.0"
      ]
     },
     "execution_count": 53,
     "metadata": {},
     "output_type": "execute_result"
    }
   ],
   "source": [
    "y_train.head()"
   ]
  },
  {
   "cell_type": "code",
   "execution_count": 54,
   "id": "f2490967-f0ab-4dda-af07-3e36473e7d3a",
   "metadata": {},
   "outputs": [
    {
     "data": {
      "text/html": [
       "<div>\n",
       "<style scoped>\n",
       "    .dataframe tbody tr th:only-of-type {\n",
       "        vertical-align: middle;\n",
       "    }\n",
       "\n",
       "    .dataframe tbody tr th {\n",
       "        vertical-align: top;\n",
       "    }\n",
       "\n",
       "    .dataframe thead th {\n",
       "        text-align: right;\n",
       "    }\n",
       "</style>\n",
       "<table border=\"1\" class=\"dataframe\">\n",
       "  <thead>\n",
       "    <tr style=\"text-align: right;\">\n",
       "      <th></th>\n",
       "      <th>sepal_len</th>\n",
       "      <th>sepal_wid</th>\n",
       "      <th>patel_len</th>\n",
       "      <th>patel_wid</th>\n",
       "      <th>species_Iris-virginica</th>\n",
       "      <th>species_Iris-versicolor</th>\n",
       "      <th>species_Iris-setosa</th>\n",
       "    </tr>\n",
       "  </thead>\n",
       "  <tbody>\n",
       "    <tr>\n",
       "      <th>41</th>\n",
       "      <td>4.5</td>\n",
       "      <td>2.3</td>\n",
       "      <td>1.3</td>\n",
       "      <td>0.3</td>\n",
       "      <td>0.0</td>\n",
       "      <td>0.0</td>\n",
       "      <td>1.0</td>\n",
       "    </tr>\n",
       "    <tr>\n",
       "      <th>98</th>\n",
       "      <td>5.1</td>\n",
       "      <td>2.5</td>\n",
       "      <td>3.0</td>\n",
       "      <td>1.1</td>\n",
       "      <td>0.0</td>\n",
       "      <td>1.0</td>\n",
       "      <td>0.0</td>\n",
       "    </tr>\n",
       "    <tr>\n",
       "      <th>61</th>\n",
       "      <td>5.9</td>\n",
       "      <td>3.0</td>\n",
       "      <td>4.2</td>\n",
       "      <td>1.5</td>\n",
       "      <td>0.0</td>\n",
       "      <td>1.0</td>\n",
       "      <td>0.0</td>\n",
       "    </tr>\n",
       "    <tr>\n",
       "      <th>134</th>\n",
       "      <td>6.1</td>\n",
       "      <td>2.6</td>\n",
       "      <td>5.6</td>\n",
       "      <td>1.4</td>\n",
       "      <td>1.0</td>\n",
       "      <td>0.0</td>\n",
       "      <td>0.0</td>\n",
       "    </tr>\n",
       "    <tr>\n",
       "      <th>76</th>\n",
       "      <td>6.8</td>\n",
       "      <td>2.8</td>\n",
       "      <td>4.8</td>\n",
       "      <td>1.4</td>\n",
       "      <td>0.0</td>\n",
       "      <td>1.0</td>\n",
       "      <td>0.0</td>\n",
       "    </tr>\n",
       "  </tbody>\n",
       "</table>\n",
       "</div>"
      ],
      "text/plain": [
       "     sepal_len  sepal_wid  patel_len  patel_wid  species_Iris-virginica  \\\n",
       "41         4.5        2.3        1.3        0.3                     0.0   \n",
       "98         5.1        2.5        3.0        1.1                     0.0   \n",
       "61         5.9        3.0        4.2        1.5                     0.0   \n",
       "134        6.1        2.6        5.6        1.4                     1.0   \n",
       "76         6.8        2.8        4.8        1.4                     0.0   \n",
       "\n",
       "     species_Iris-versicolor  species_Iris-setosa  \n",
       "41                       0.0                  1.0  \n",
       "98                       1.0                  0.0  \n",
       "61                       1.0                  0.0  \n",
       "134                      0.0                  0.0  \n",
       "76                       1.0                  0.0  "
      ]
     },
     "execution_count": 54,
     "metadata": {},
     "output_type": "execute_result"
    }
   ],
   "source": [
    "train_df1 = x_train.join(y_train) \n",
    "train_df1.head()"
   ]
  },
  {
   "cell_type": "code",
   "execution_count": 55,
   "id": "cf7cd780-a78d-4a41-b54a-0481e2db35ac",
   "metadata": {},
   "outputs": [],
   "source": [
    "##model Building\n",
    "logistic = LogisticRegression(solver='liblinear', max_iter=1000)\n",
    "model= OneVsRestClassifier(logistic)\n",
    "model.fit(x_train,y_train)\n",
    "y_pred_train = model.predict(x_train)\n",
    "y_pred = model.predict(x_test)"
   ]
  },
  {
   "cell_type": "code",
   "execution_count": 56,
   "id": "503ffcff-fc76-4cb6-852f-1d66caa0e82c",
   "metadata": {},
   "outputs": [
    {
     "data": {
      "text/html": [
       "<div>\n",
       "<style scoped>\n",
       "    .dataframe tbody tr th:only-of-type {\n",
       "        vertical-align: middle;\n",
       "    }\n",
       "\n",
       "    .dataframe tbody tr th {\n",
       "        vertical-align: top;\n",
       "    }\n",
       "\n",
       "    .dataframe thead th {\n",
       "        text-align: right;\n",
       "    }\n",
       "</style>\n",
       "<table border=\"1\" class=\"dataframe\">\n",
       "  <thead>\n",
       "    <tr style=\"text-align: right;\">\n",
       "      <th></th>\n",
       "      <th>precision</th>\n",
       "      <th>recall</th>\n",
       "      <th>f1-score</th>\n",
       "      <th>support</th>\n",
       "    </tr>\n",
       "  </thead>\n",
       "  <tbody>\n",
       "    <tr>\n",
       "      <th>0</th>\n",
       "      <td>0.930233</td>\n",
       "      <td>1.000000</td>\n",
       "      <td>0.963855</td>\n",
       "      <td>40.0</td>\n",
       "    </tr>\n",
       "    <tr>\n",
       "      <th>1</th>\n",
       "      <td>0.550000</td>\n",
       "      <td>0.275000</td>\n",
       "      <td>0.366667</td>\n",
       "      <td>40.0</td>\n",
       "    </tr>\n",
       "    <tr>\n",
       "      <th>2</th>\n",
       "      <td>1.000000</td>\n",
       "      <td>1.000000</td>\n",
       "      <td>1.000000</td>\n",
       "      <td>36.0</td>\n",
       "    </tr>\n",
       "    <tr>\n",
       "      <th>micro avg</th>\n",
       "      <td>0.878788</td>\n",
       "      <td>0.750000</td>\n",
       "      <td>0.809302</td>\n",
       "      <td>116.0</td>\n",
       "    </tr>\n",
       "    <tr>\n",
       "      <th>macro avg</th>\n",
       "      <td>0.826744</td>\n",
       "      <td>0.758333</td>\n",
       "      <td>0.776841</td>\n",
       "      <td>116.0</td>\n",
       "    </tr>\n",
       "    <tr>\n",
       "      <th>weighted avg</th>\n",
       "      <td>0.820770</td>\n",
       "      <td>0.750000</td>\n",
       "      <td>0.769146</td>\n",
       "      <td>116.0</td>\n",
       "    </tr>\n",
       "    <tr>\n",
       "      <th>samples avg</th>\n",
       "      <td>0.939655</td>\n",
       "      <td>0.750000</td>\n",
       "      <td>0.721264</td>\n",
       "      <td>116.0</td>\n",
       "    </tr>\n",
       "  </tbody>\n",
       "</table>\n",
       "</div>"
      ],
      "text/plain": [
       "              precision    recall  f1-score  support\n",
       "0              0.930233  1.000000  0.963855     40.0\n",
       "1              0.550000  0.275000  0.366667     40.0\n",
       "2              1.000000  1.000000  1.000000     36.0\n",
       "micro avg      0.878788  0.750000  0.809302    116.0\n",
       "macro avg      0.826744  0.758333  0.776841    116.0\n",
       "weighted avg   0.820770  0.750000  0.769146    116.0\n",
       "samples avg    0.939655  0.750000  0.721264    116.0"
      ]
     },
     "execution_count": 56,
     "metadata": {},
     "output_type": "execute_result"
    }
   ],
   "source": [
    "train_report = classification_report(y_train, y_pred_train, zero_division=1, output_dict=True)\n",
    "train_df1_report = pd.DataFrame(train_report).transpose()\n",
    "train_df1_report"
   ]
  },
  {
   "cell_type": "code",
   "execution_count": 57,
   "id": "c702caa3-eab7-4cde-97ab-a6806fad54ef",
   "metadata": {},
   "outputs": [
    {
     "data": {
      "text/html": [
       "<div>\n",
       "<style scoped>\n",
       "    .dataframe tbody tr th:only-of-type {\n",
       "        vertical-align: middle;\n",
       "    }\n",
       "\n",
       "    .dataframe tbody tr th {\n",
       "        vertical-align: top;\n",
       "    }\n",
       "\n",
       "    .dataframe thead th {\n",
       "        text-align: right;\n",
       "    }\n",
       "</style>\n",
       "<table border=\"1\" class=\"dataframe\">\n",
       "  <thead>\n",
       "    <tr style=\"text-align: right;\">\n",
       "      <th></th>\n",
       "      <th>precision</th>\n",
       "      <th>recall</th>\n",
       "      <th>f1-score</th>\n",
       "      <th>support</th>\n",
       "    </tr>\n",
       "  </thead>\n",
       "  <tbody>\n",
       "    <tr>\n",
       "      <th>0</th>\n",
       "      <td>0.909091</td>\n",
       "      <td>1.000000</td>\n",
       "      <td>0.952381</td>\n",
       "      <td>10.0</td>\n",
       "    </tr>\n",
       "    <tr>\n",
       "      <th>1</th>\n",
       "      <td>0.500000</td>\n",
       "      <td>0.333333</td>\n",
       "      <td>0.400000</td>\n",
       "      <td>9.0</td>\n",
       "    </tr>\n",
       "    <tr>\n",
       "      <th>2</th>\n",
       "      <td>1.000000</td>\n",
       "      <td>1.000000</td>\n",
       "      <td>1.000000</td>\n",
       "      <td>11.0</td>\n",
       "    </tr>\n",
       "    <tr>\n",
       "      <th>micro avg</th>\n",
       "      <td>0.857143</td>\n",
       "      <td>0.800000</td>\n",
       "      <td>0.827586</td>\n",
       "      <td>30.0</td>\n",
       "    </tr>\n",
       "    <tr>\n",
       "      <th>macro avg</th>\n",
       "      <td>0.803030</td>\n",
       "      <td>0.777778</td>\n",
       "      <td>0.784127</td>\n",
       "      <td>30.0</td>\n",
       "    </tr>\n",
       "    <tr>\n",
       "      <th>weighted avg</th>\n",
       "      <td>0.819697</td>\n",
       "      <td>0.800000</td>\n",
       "      <td>0.804127</td>\n",
       "      <td>30.0</td>\n",
       "    </tr>\n",
       "    <tr>\n",
       "      <th>samples avg</th>\n",
       "      <td>0.916667</td>\n",
       "      <td>0.800000</td>\n",
       "      <td>0.766667</td>\n",
       "      <td>30.0</td>\n",
       "    </tr>\n",
       "  </tbody>\n",
       "</table>\n",
       "</div>"
      ],
      "text/plain": [
       "              precision    recall  f1-score  support\n",
       "0              0.909091  1.000000  0.952381     10.0\n",
       "1              0.500000  0.333333  0.400000      9.0\n",
       "2              1.000000  1.000000  1.000000     11.0\n",
       "micro avg      0.857143  0.800000  0.827586     30.0\n",
       "macro avg      0.803030  0.777778  0.784127     30.0\n",
       "weighted avg   0.819697  0.800000  0.804127     30.0\n",
       "samples avg    0.916667  0.800000  0.766667     30.0"
      ]
     },
     "execution_count": 57,
     "metadata": {},
     "output_type": "execute_result"
    }
   ],
   "source": [
    "test_report = classification_report(y_test,y_pred,zero_division=1,output_dict=True)\n",
    "test_df1_report = pd.DataFrame(test_report).transpose()\n",
    "test_df1_report"
   ]
  },
  {
   "cell_type": "code",
   "execution_count": null,
   "id": "b9f5b7b1-17cc-49ee-8e2a-b0ed335e3b67",
   "metadata": {},
   "outputs": [],
   "source": []
  },
  {
   "cell_type": "code",
   "execution_count": null,
   "id": "9f34b321-caf2-4b31-acc1-f6cfcc0bc06f",
   "metadata": {},
   "outputs": [],
   "source": []
  }
 ],
 "metadata": {
  "kernelspec": {
   "display_name": "Python 3 (ipykernel)",
   "language": "python",
   "name": "python3"
  },
  "language_info": {
   "codemirror_mode": {
    "name": "ipython",
    "version": 3
   },
   "file_extension": ".py",
   "mimetype": "text/x-python",
   "name": "python",
   "nbconvert_exporter": "python",
   "pygments_lexer": "ipython3",
   "version": "3.12.4"
  }
 },
 "nbformat": 4,
 "nbformat_minor": 5
}
